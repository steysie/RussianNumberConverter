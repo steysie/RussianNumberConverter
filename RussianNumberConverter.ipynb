{
  "nbformat": 4,
  "nbformat_minor": 0,
  "metadata": {
    "colab": {
      "name": "RussianNumberConverter.ipynb",
      "provenance": [],
      "include_colab_link": true
    },
    "kernelspec": {
      "name": "python3",
      "display_name": "Python 3"
    }
  },
  "cells": [
    {
      "cell_type": "markdown",
      "metadata": {
        "id": "view-in-github",
        "colab_type": "text"
      },
      "source": [
        "<a href=\"https://colab.research.google.com/github/steysie/RussianNumberConverter/blob/master/RussianNumberConverter.ipynb\" target=\"_parent\"><img src=\"https://colab.research.google.com/assets/colab-badge.svg\" alt=\"Open In Colab\"/></a>"
      ]
    },
    {
      "cell_type": "markdown",
      "metadata": {
        "id": "tMqPH4Rz5w27",
        "colab_type": "text"
      },
      "source": [
        "## Russian Number Converter\n",
        "#### Anastasia Nikiforova"
      ]
    },
    {
      "cell_type": "markdown",
      "metadata": {
        "id": "Lz5dLE70ElBN",
        "colab_type": "text"
      },
      "source": [
        "Задача - конвертировать имена числительные в предложении в текстовый эквивалент с созранением согласования с другими членами предложения.\n",
        "\n",
        "Пример: \n",
        "\n",
        "*Я прочитал сказку об 1 маленькой черепашке и 127 гномах --> Я прочитал сказку об одной черепашке и ста двадцати семи гномах*\n",
        "\n",
        "*К 7 часам в кассе уже нет 1928 билетов --> К семи часам в кассе уже нет одной тысячи девытисот двадцати восьми билетов*\n",
        "\n"
      ]
    },
    {
      "cell_type": "code",
      "metadata": {
        "id": "3ZcGZXmE5sUv",
        "colab_type": "code",
        "colab": {}
      },
      "source": [
        "!pip install num2words"
      ],
      "execution_count": 0,
      "outputs": []
    },
    {
      "cell_type": "code",
      "metadata": {
        "id": "KUB2xQm15-IV",
        "colab_type": "code",
        "colab": {}
      },
      "source": [
        "!pip install pymorphy2"
      ],
      "execution_count": 0,
      "outputs": []
    },
    {
      "cell_type": "code",
      "metadata": {
        "id": "KNk3_XHm6JdQ",
        "colab_type": "code",
        "colab": {}
      },
      "source": [
        "import re\n",
        "import pymorphy2\n",
        "from spacy.lang.ru import Russian\n",
        "from num2words import num2words\n",
        "import pandas as pd\n",
        "import numpy as np\n",
        "\n",
        "morph = pymorphy2.MorphAnalyzer()"
      ],
      "execution_count": 0,
      "outputs": []
    },
    {
      "cell_type": "markdown",
      "metadata": {
        "id": "NKXbvrPWAP4w",
        "colab_type": "text"
      },
      "source": [
        "### Об использованных библиотеках"
      ]
    },
    {
      "cell_type": "markdown",
      "metadata": {
        "id": "r6vXD0S9ATjM",
        "colab_type": "text"
      },
      "source": [
        "```num2words``` - готовая библиотека для конвертации\n",
        "\n",
        "Сам по себе модуль не решает задачу, но его можно использовать для конвертации найденных чисел в развернутый формат. После такой конвертации будет необходимо изменить окончания в зависимости от грамматической формы зависимого слова."
      ]
    },
    {
      "cell_type": "code",
      "metadata": {
        "id": "-WAejuqUAfi2",
        "colab_type": "code",
        "outputId": "4de4c3d1-24e9-4bdc-f190-74558ed87e68",
        "colab": {
          "base_uri": "https://localhost:8080/",
          "height": 51
        }
      },
      "source": [
        "# пример работы\n",
        "print(f'cardinal 14263451234 = {num2words(1426345231234, lang=\"ru\")}')\n",
        "print(f'ordinal 14234 = {num2words(14234, to=\"ordinal\", lang=\"ru\")}')"
      ],
      "execution_count": 4,
      "outputs": [
        {
          "output_type": "stream",
          "text": [
            "cardinal 14263451234 = один триллион четыреста двадцать шесть миллиардов триста сорок пять миллионов двести тридцать одна тысяча двести тридцать четыре\n",
            "ordinal 14234 = четырнадцать тысяч двести тридцать четвертый\n"
          ],
          "name": "stdout"
        }
      ]
    },
    {
      "cell_type": "markdown",
      "metadata": {
        "id": "mNEDIos8ArpA",
        "colab_type": "text"
      },
      "source": [
        "```pymorphy2``` - включает в себя размеченный Open Corpora, в котором содержатся такие необходимые грамматические категории как род, падеж и одушевленность."
      ]
    },
    {
      "cell_type": "code",
      "metadata": {
        "id": "GM-A3OfABGoj",
        "colab_type": "code",
        "outputId": "4b302519-d425-48dd-fa88-0414582bb340",
        "colab": {
          "base_uri": "https://localhost:8080/",
          "height": 34
        }
      },
      "source": [
        "# пример работы\n",
        "word = \"ежами\"\n",
        "num = \"шестнадцать\"\n",
        "\n",
        "word_tag = morph.parse(word)[0]\n",
        "num_tag = morph.parse(num)[0]\n",
        "\n",
        "new_num = num_tag.inflect({word_tag.tag.case}).word\n",
        "f\"{new_num} {word}\""
      ],
      "execution_count": 5,
      "outputs": [
        {
          "output_type": "execute_result",
          "data": {
            "text/plain": [
              "'шестнадцатью ежами'"
            ]
          },
          "metadata": {
            "tags": []
          },
          "execution_count": 5
        }
      ]
    },
    {
      "cell_type": "markdown",
      "metadata": {
        "id": "_laTfvmbCCBv",
        "colab_type": "text"
      },
      "source": [
        "## Конвертация чисел в слова"
      ]
    },
    {
      "cell_type": "code",
      "metadata": {
        "id": "PHL5TYc16yHr",
        "colab_type": "code",
        "colab": {}
      },
      "source": [
        "class RussianNumberConverter:\n",
        "    '''\n",
        "    The Russian Number Converter inputs and outputs a string.\n",
        "    It is fully rule-based, and uses annotated Open Corpora via pymorphy2.\n",
        "    Rules can be modified and supplemented if needed. Existing rules cover most rules of number agreement in Rusian language.\n",
        "    It is suggested to feed sentence-length segments to the converter.\n",
        "\n",
        "    Example input:  \"2 больших капибар\"\n",
        "    Example output: \"двух больших капибар\"\n",
        "    '''\n",
        "\n",
        "    def __init__(self):\n",
        "        self.new_string = \"\"\n",
        "\n",
        "    def tokenize(self, text):\n",
        "        ''' \n",
        "        Spacy tokenizer.\n",
        "        Each word and puctuation mark is a separate token.\n",
        "        '''\n",
        "        nlp = Russian()\n",
        "        doc = nlp(text)\n",
        "\n",
        "        return [token.text for token in doc]\n",
        "\n",
        "    def convert(self, text):\n",
        "\n",
        "        tmp = self.tokenize(text)\n",
        "\n",
        "        for tok_n in range(len(tmp)):\n",
        "            if re.match(r\"\\d+\", tmp[tok_n]):\n",
        "                raw_num = num2words(tmp[tok_n], lang=\"ru\")\n",
        "                \n",
        "                # результат конвертации может быть составным числительным \n",
        "                raw_num_split = raw_num.split()\n",
        "                raw_num_tagged = [morph.parse(i)[0] for i in raw_num_split]\n",
        "\n",
        "                if tok_n>0 and tmp[tok_n-1].lower() == \"нет\":\n",
        "\n",
        "                    # поставить числительное в форму Родительного падежа\n",
        "                    raw_num_split = [token.inflect({\"gent\"}).word for token in raw_num_tagged]\n",
        "\n",
        "                elif tok_n>0 and tmp[tok_n-1].lower() == \"c\":\n",
        "\n",
        "                    # поставить числительное в форму Предложного падежа\n",
        "                    raw_num_split = [token.inflect({\"ablt\"}).word for token in raw_num_tagged]\n",
        "\n",
        "                # если за словом следует имя существительное, прилагательное или причастие - согласуем с ним числительное\n",
        "\n",
        "                elif tok_n != len(tmp)-1 and any(tag in [morph.parse(i)[0].tag.POS for i in tmp[tok_n+1:]] for tag in [\"NOUN\", \"ADJF\"]):\n",
        "                    \n",
        "                    # согласовать с их родом и числом (inflect)\n",
        "                    next_tok = next(morph.parse(tok)[0] for tok in tmp[tok_n+1:] if morph.parse(tok)[0].tag.POS in [\"NOUN\", \"ADJF\"])\n",
        "                    \n",
        "                    if raw_num_split[-1] in [\"один\", \"два\"]:\n",
        "                        # для чисел, оканцивающихся на \"один\" и \"два\" меняем только последнее слово\n",
        "\n",
        "                        # если зависимое слово - существительное, согласуем по роду и падежу\n",
        "                        if morph.parse(tmp[tok_n+1])[0].tag.POS == \"NOUN\":\n",
        "                            # смотрим на одушевленность\n",
        "                            if next_tok.tag.animacy == \"inan\":\n",
        "                                if next_tok.tag.gender:\n",
        "                                    raw_num_split[-1] = raw_num_tagged[-1].inflect({next_tok.tag.gender, next_tok.tag.case}).word\n",
        "\n",
        "                                if raw_num_tagged[-1].tag.animacy:\n",
        "                                    raw_num_split[-1] = raw_num_tagged[-1].inflect({next_tok.tag.animacy, next_tok.tag.case}).word\n",
        "                                \n",
        "                                elif next_tok.tag.case == \"gent\":\n",
        "                                    if next_tok.tag.gender:\n",
        "                                        raw_num_split[-1] = raw_num_tagged[-1].inflect({next_tok.tag.gender, \"accs\"}).word\n",
        "                                    else:\n",
        "                                        raw_num_split[-1] = raw_num_tagged[-1].inflect({next_tok.tag.animacy, \"accs\"}).word\n",
        "\n",
        "                                else:\n",
        "                                    raw_num_split[-1] = raw_num_tagged[-1].inflect({next_tok.tag.case}).word\n",
        "                            \n",
        "                            else:\n",
        "                                raw_num_split[-1] = raw_num_tagged[-1].inflect({next_tok.tag.gender, next_tok.tag.case}).word\n",
        "                        \n",
        "                        # если зависимое слово - прилагательное, согласуем по падежу\n",
        "                        if next_tok.tag.POS in [\"ADJF\", \"PRTF\"]:\n",
        "                            if next_tok.tag.gender:\n",
        "                                raw_num_split[-1] = raw_num_tagged[-1].inflect({next_tok.tag.gender, next_tok.tag.case}).word\n",
        "\n",
        "                            else:\n",
        "                                raw_num_split[-1] = raw_num_tagged[-1].inflect({next_tok.tag.case}).word\n",
        "\n",
        "                    #### noun == \"gent\" --> numr == \"accs\"\n",
        "                    elif next_tok.tag.case == \"gent\":\n",
        "                        raw_num_split = [token.inflect({'accs'}).word for token in raw_num_tagged]\n",
        "\n",
        "                    else:     \n",
        "                        raw_num_split = [token.inflect({next_tok.tag.case}).word for token in raw_num_tagged]\n",
        "\n",
        "                elif tok_n>0 and morph.parse(tmp[tok_n-1])[0].tag.POS == \"PREP\":\n",
        "\n",
        "                    # поставить числительное в форму Предложного падежа\n",
        "                    raw_num_split = [token.inflect({\"loct\"}).word for token in raw_num_tagged]\n",
        "\n",
        "                # если предыдущие условия не подходят, оставляем как есть - предполагаем, что таких случаев незначительно мало и именительный падеж подходит\n",
        "                accord_number = \" \".join([i for i in raw_num_split])\n",
        "                tmp[tok_n] = accord_number\n",
        "        \n",
        "        self.new_string = \" \".join(text for text in tmp)\n",
        "\n",
        "        return self.new_string\n"
      ],
      "execution_count": 0,
      "outputs": []
    },
    {
      "cell_type": "code",
      "metadata": {
        "id": "bSrFSMU0623p",
        "colab_type": "code",
        "colab": {}
      },
      "source": [
        "conv = RussianNumberConverter()"
      ],
      "execution_count": 0,
      "outputs": []
    },
    {
      "cell_type": "code",
      "metadata": {
        "id": "HsR_8Rsv661w",
        "colab_type": "code",
        "outputId": "b3609124-ffd4-4aa4-aaba-b4a43c1f1f4a",
        "colab": {
          "base_uri": "https://localhost:8080/",
          "height": 306
        }
      },
      "source": [
        "s = [\"5 котов\",\n",
        "     \"1 котом\",\n",
        "     \"10 котами\",\n",
        "     \"2 больших капибар\",\n",
        "     \"о 55 гномах\",\n",
        "     \"41 чертенку\",\n",
        "     \"1 маленькой черепашки\",\n",
        "     \"2 стола\", \n",
        "     \"18 мест\",\n",
        "     \"нет 18 мест\",\n",
        "     \"нет 1928 билетов\",\n",
        "     \"8 столами\",\n",
        "     \"9 котами\", \n",
        "     \"С 274 карандашами\",\n",
        "     \"О 2\", \n",
        "     \"главный приз вручили 1 танцующему дельфину\"]\n",
        "\n",
        "[conv.convert(i) for i in s]"
      ],
      "execution_count": 31,
      "outputs": [
        {
          "output_type": "execute_result",
          "data": {
            "text/plain": [
              "['пять котов',\n",
              " 'одним котом',\n",
              " 'десятью котами',\n",
              " 'двух больших капибар',\n",
              " 'о пятидесяти пяти гномах',\n",
              " 'сорок одному чертенку',\n",
              " 'одной маленькой черепашки',\n",
              " 'два стола',\n",
              " 'восемнадцать мест',\n",
              " 'нет восемнадцати мест',\n",
              " 'нет одной тысячи девятисот двадцати восьми билетов',\n",
              " 'восемью столами',\n",
              " 'девятью котами',\n",
              " 'С двумястами семьюдесятью четырьмя карандашами',\n",
              " 'О двух',\n",
              " 'главный приз вручили одному танцующему дельфину',\n",
              " 'я никогда не видел тридцать шесть танцующих дельфинов']"
            ]
          },
          "metadata": {
            "tags": []
          },
          "execution_count": 31
        }
      ]
    }
  ]
}